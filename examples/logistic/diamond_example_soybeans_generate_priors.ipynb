{
 "cells": [
  {
   "cell_type": "code",
   "execution_count": 1,
   "metadata": {},
   "outputs": [
    {
     "name": "stderr",
     "output_type": "stream",
     "text": [
      "Loading required package: Matrix\n",
      "Loading required package: nlme\n",
      "\n",
      "Attaching package: ‘nlme’\n",
      "\n",
      "The following object is masked from ‘package:lme4’:\n",
      "\n",
      "    lmList\n",
      "\n",
      "Loading required package: MASS\n",
      "\n",
      "arm (Version 1.9-3, built: 2016-11-21)\n",
      "\n",
      "Working directory is /Users/tsweetser/sf/diamond/examples/logistic\n",
      "\n",
      "\n",
      "Attaching package: ‘dplyr’\n",
      "\n",
      "The following object is masked from ‘package:MASS’:\n",
      "\n",
      "    select\n",
      "\n",
      "The following object is masked from ‘package:nlme’:\n",
      "\n",
      "    collapse\n",
      "\n",
      "The following objects are masked from ‘package:stats’:\n",
      "\n",
      "    filter, lag\n",
      "\n",
      "The following objects are masked from ‘package:base’:\n",
      "\n",
      "    intersect, setdiff, setequal, union\n",
      "\n"
     ]
    }
   ],
   "source": [
    "library(lme4)\n",
    "library(mbest)\n",
    "library(arm)\n",
    "library(dplyr)"
   ]
  },
  {
   "cell_type": "code",
   "execution_count": 2,
   "metadata": {},
   "outputs": [],
   "source": [
    "df = read.csv(\"soybean_small.csv\")"
   ]
  },
  {
   "cell_type": "code",
   "execution_count": 3,
   "metadata": {},
   "outputs": [
    {
     "data": {
      "text/html": [
       "<table>\n",
       "<thead><tr><th scope=col>date</th><th scope=col>plant_stand</th><th scope=col>precip</th><th scope=col>temp</th><th scope=col>hail</th><th scope=col>crop_hist</th><th scope=col>area_damaged</th><th scope=col>severity</th><th scope=col>seed_tmt</th><th scope=col>germination</th><th scope=col>⋯</th><th scope=col>sclerotia</th><th scope=col>fruit_pods</th><th scope=col>fruit.spots</th><th scope=col>seed</th><th scope=col>mold_growth</th><th scope=col>seed_discolor</th><th scope=col>seed_size</th><th scope=col>shriveling</th><th scope=col>roots</th><th scope=col>NA.</th></tr></thead>\n",
       "<tbody>\n",
       "\t<tr><td>4 </td><td>0 </td><td>2 </td><td>1 </td><td>1 </td><td>1 </td><td>0 </td><td>1 </td><td>0 </td><td>2 </td><td>⋯ </td><td>0 </td><td>0 </td><td>4 </td><td>0 </td><td>0 </td><td>0 </td><td>0 </td><td>0 </td><td>0 </td><td>D1</td></tr>\n",
       "\t<tr><td>5 </td><td>0 </td><td>2 </td><td>1 </td><td>0 </td><td>3 </td><td>1 </td><td>1 </td><td>1 </td><td>2 </td><td>⋯ </td><td>0 </td><td>0 </td><td>4 </td><td>0 </td><td>0 </td><td>0 </td><td>0 </td><td>0 </td><td>0 </td><td>D1</td></tr>\n",
       "\t<tr><td>3 </td><td>0 </td><td>2 </td><td>1 </td><td>0 </td><td>2 </td><td>0 </td><td>2 </td><td>1 </td><td>1 </td><td>⋯ </td><td>0 </td><td>0 </td><td>4 </td><td>0 </td><td>0 </td><td>0 </td><td>0 </td><td>0 </td><td>0 </td><td>D1</td></tr>\n",
       "\t<tr><td>6 </td><td>0 </td><td>2 </td><td>1 </td><td>0 </td><td>1 </td><td>1 </td><td>1 </td><td>0 </td><td>0 </td><td>⋯ </td><td>0 </td><td>0 </td><td>4 </td><td>0 </td><td>0 </td><td>0 </td><td>0 </td><td>0 </td><td>0 </td><td>D1</td></tr>\n",
       "\t<tr><td>4 </td><td>0 </td><td>2 </td><td>1 </td><td>0 </td><td>3 </td><td>0 </td><td>2 </td><td>0 </td><td>2 </td><td>⋯ </td><td>0 </td><td>0 </td><td>4 </td><td>0 </td><td>0 </td><td>0 </td><td>0 </td><td>0 </td><td>0 </td><td>D1</td></tr>\n",
       "\t<tr><td>5 </td><td>0 </td><td>2 </td><td>1 </td><td>0 </td><td>2 </td><td>0 </td><td>1 </td><td>1 </td><td>0 </td><td>⋯ </td><td>0 </td><td>0 </td><td>4 </td><td>0 </td><td>0 </td><td>0 </td><td>0 </td><td>0 </td><td>0 </td><td>D1</td></tr>\n",
       "</tbody>\n",
       "</table>\n"
      ],
      "text/latex": [
       "\\begin{tabular}{r|llllllllllllllllllllllllllllllllllll}\n",
       " date & plant\\_stand & precip & temp & hail & crop\\_hist & area\\_damaged & severity & seed\\_tmt & germination & ⋯ & sclerotia & fruit\\_pods & fruit.spots & seed & mold\\_growth & seed\\_discolor & seed\\_size & shriveling & roots & NA.\\\\\n",
       "\\hline\n",
       "\t 4  & 0  & 2  & 1  & 1  & 1  & 0  & 1  & 0  & 2  & ⋯  & 0  & 0  & 4  & 0  & 0  & 0  & 0  & 0  & 0  & D1\\\\\n",
       "\t 5  & 0  & 2  & 1  & 0  & 3  & 1  & 1  & 1  & 2  & ⋯  & 0  & 0  & 4  & 0  & 0  & 0  & 0  & 0  & 0  & D1\\\\\n",
       "\t 3  & 0  & 2  & 1  & 0  & 2  & 0  & 2  & 1  & 1  & ⋯  & 0  & 0  & 4  & 0  & 0  & 0  & 0  & 0  & 0  & D1\\\\\n",
       "\t 6  & 0  & 2  & 1  & 0  & 1  & 1  & 1  & 0  & 0  & ⋯  & 0  & 0  & 4  & 0  & 0  & 0  & 0  & 0  & 0  & D1\\\\\n",
       "\t 4  & 0  & 2  & 1  & 0  & 3  & 0  & 2  & 0  & 2  & ⋯  & 0  & 0  & 4  & 0  & 0  & 0  & 0  & 0  & 0  & D1\\\\\n",
       "\t 5  & 0  & 2  & 1  & 0  & 2  & 0  & 1  & 1  & 0  & ⋯  & 0  & 0  & 4  & 0  & 0  & 0  & 0  & 0  & 0  & D1\\\\\n",
       "\\end{tabular}\n"
      ],
      "text/markdown": [
       "\n",
       "date | plant_stand | precip | temp | hail | crop_hist | area_damaged | severity | seed_tmt | germination | ⋯ | sclerotia | fruit_pods | fruit.spots | seed | mold_growth | seed_discolor | seed_size | shriveling | roots | NA. | \n",
       "|---|---|---|---|---|---|\n",
       "| 4  | 0  | 2  | 1  | 1  | 1  | 0  | 1  | 0  | 2  | ⋯  | 0  | 0  | 4  | 0  | 0  | 0  | 0  | 0  | 0  | D1 | \n",
       "| 5  | 0  | 2  | 1  | 0  | 3  | 1  | 1  | 1  | 2  | ⋯  | 0  | 0  | 4  | 0  | 0  | 0  | 0  | 0  | 0  | D1 | \n",
       "| 3  | 0  | 2  | 1  | 0  | 2  | 0  | 2  | 1  | 1  | ⋯  | 0  | 0  | 4  | 0  | 0  | 0  | 0  | 0  | 0  | D1 | \n",
       "| 6  | 0  | 2  | 1  | 0  | 1  | 1  | 1  | 0  | 0  | ⋯  | 0  | 0  | 4  | 0  | 0  | 0  | 0  | 0  | 0  | D1 | \n",
       "| 4  | 0  | 2  | 1  | 0  | 3  | 0  | 2  | 0  | 2  | ⋯  | 0  | 0  | 4  | 0  | 0  | 0  | 0  | 0  | 0  | D1 | \n",
       "| 5  | 0  | 2  | 1  | 0  | 2  | 0  | 1  | 1  | 0  | ⋯  | 0  | 0  | 4  | 0  | 0  | 0  | 0  | 0  | 0  | D1 | \n",
       "\n",
       "\n"
      ],
      "text/plain": [
       "  date plant_stand precip temp hail crop_hist area_damaged severity seed_tmt\n",
       "1 4    0           2      1    1    1         0            1        0       \n",
       "2 5    0           2      1    0    3         1            1        1       \n",
       "3 3    0           2      1    0    2         0            2        1       \n",
       "4 6    0           2      1    0    1         1            1        0       \n",
       "5 4    0           2      1    0    3         0            2        0       \n",
       "6 5    0           2      1    0    2         0            1        1       \n",
       "  germination ⋯ sclerotia fruit_pods fruit.spots seed mold_growth seed_discolor\n",
       "1 2           ⋯ 0         0          4           0    0           0            \n",
       "2 2           ⋯ 0         0          4           0    0           0            \n",
       "3 1           ⋯ 0         0          4           0    0           0            \n",
       "4 0           ⋯ 0         0          4           0    0           0            \n",
       "5 2           ⋯ 0         0          4           0    0           0            \n",
       "6 0           ⋯ 0         0          4           0    0           0            \n",
       "  seed_size shriveling roots NA.\n",
       "1 0         0          0     D1 \n",
       "2 0         0          0     D1 \n",
       "3 0         0          0     D1 \n",
       "4 0         0          0     D1 \n",
       "5 0         0          0     D1 \n",
       "6 0         0          0     D1 "
      ]
     },
     "metadata": {},
     "output_type": "display_data"
    }
   ],
   "source": [
    "head(df)"
   ]
  },
  {
   "cell_type": "code",
   "execution_count": 4,
   "metadata": {
    "scrolled": true
   },
   "outputs": [
    {
     "data": {
      "text/plain": [
       " fruiting_bodies      precip          leaves      \n",
       " Min.   :0.0000   Min.   :0.000   Min.   :0.0000  \n",
       " 1st Qu.:0.0000   1st Qu.:1.000   1st Qu.:1.0000  \n",
       " Median :0.0000   Median :2.000   Median :1.0000  \n",
       " Mean   :0.2128   Mean   :1.489   Mean   :0.8085  \n",
       " 3rd Qu.:0.0000   3rd Qu.:2.000   3rd Qu.:1.0000  \n",
       " Max.   :1.0000   Max.   :2.000   Max.   :1.0000  "
      ]
     },
     "metadata": {},
     "output_type": "display_data"
    }
   ],
   "source": [
    "summary(dplyr::select(df, fruiting_bodies, precip, leaves))"
   ]
  },
  {
   "cell_type": "code",
   "execution_count": 5,
   "metadata": {},
   "outputs": [],
   "source": [
    "model <- mhglm(fruiting_bodies ~ 1 + precip + (1 + precip | leaves),\n",
    "                 data = df,\n",
    "                 family = binomial)"
   ]
  },
  {
   "cell_type": "code",
   "execution_count": 6,
   "metadata": {},
   "outputs": [
    {
     "data": {
      "text/plain": [
       "\n",
       "Call:\n",
       "mhglm(formula = fruiting_bodies ~ 1 + precip + (1 + precip | \n",
       "    leaves), family = binomial, data = df)\n",
       "\n",
       "Random effects:\n",
       " Groups Name        Variance Std.Dev Corr\n",
       " leaves (Intercept) 0        0           \n",
       "        precip      0        0       NaN \n",
       "\n",
       "Fixed effects:\n",
       "            Estimate Std. Error z value Pr(>|z|)  \n",
       "(Intercept)   -3.885      1.911  -2.033   0.0420 *\n",
       "precip         1.651      1.003   1.647   0.0996 .\n",
       "---\n",
       "Signif. codes:  0 ‘***’ 0.001 ‘**’ 0.01 ‘*’ 0.05 ‘.’ 0.1 ‘ ’ 1\n"
      ]
     },
     "metadata": {},
     "output_type": "display_data"
    }
   ],
   "source": [
    "summary(model)"
   ]
  },
  {
   "cell_type": "code",
   "execution_count": 7,
   "metadata": {},
   "outputs": [
    {
     "data": {
      "text/html": [
       "<table>\n",
       "<thead><tr><th></th><th scope=col>(Intercept)</th><th scope=col>precip</th></tr></thead>\n",
       "<tbody>\n",
       "\t<tr><th scope=row>0</th><td>0</td><td>0</td></tr>\n",
       "\t<tr><th scope=row>1</th><td>0</td><td>0</td></tr>\n",
       "</tbody>\n",
       "</table>\n"
      ],
      "text/latex": [
       "\\begin{tabular}{r|ll}\n",
       "  & (Intercept) & precip\\\\\n",
       "\\hline\n",
       "\t0 & 0 & 0\\\\\n",
       "\t1 & 0 & 0\\\\\n",
       "\\end{tabular}\n"
      ],
      "text/markdown": [
       "\n",
       "| <!--/--> | (Intercept) | precip | \n",
       "|---|---|\n",
       "| 0 | 0 | 0 | \n",
       "| 1 | 0 | 0 | \n",
       "\n",
       "\n"
      ],
      "text/plain": [
       "  (Intercept) precip\n",
       "0 0           0     \n",
       "1 0           0     "
      ]
     },
     "metadata": {},
     "output_type": "display_data"
    }
   ],
   "source": [
    "ranef(model)$leaves"
   ]
  },
  {
   "cell_type": "code",
   "execution_count": 8,
   "metadata": {},
   "outputs": [],
   "source": [
    "get_priors <- function(model, group, lme4=TRUE) {\n",
    "  priors <- VarCorr(model)\n",
    "  if (lme4) {\n",
    "    priors <- as.data.frame(priors)\n",
    "    priors <- mutate(priors, var1 = ifelse(var1 == \"(Intercept)\", \"intercept\", var1))\n",
    "    names(priors) <- tolower(names(priors))    \n",
    "  } else {\n",
    "    # for now, only take the diagonal\n",
    "    priors <- data.frame(\n",
    "        grp   = rep(group, ncol(priors[[group]])),\n",
    "        var1  = tolower(colnames(priors[[group]])),\n",
    "        var2  = rep(NA, ncol(priors[[group]])),\n",
    "        vcov  = diag(priors[[group]]),\n",
    "        sdcor = sqrt(diag(priors[[group]])),\n",
    "        # this needs to be here due to bad R quirks\n",
    "        stringsAsFactors = FALSE\n",
    "    )\n",
    "    priors$var1[priors$var1 == '(intercept)'] <- 'intercept'\n",
    "    rownames(priors) <- NULL\n",
    "  }\n",
    "  return(priors)\n",
    "}"
   ]
  },
  {
   "cell_type": "code",
   "execution_count": 9,
   "metadata": {},
   "outputs": [],
   "source": [
    "priors = get_priors(model, group=\"leaves\", lme4=FALSE)"
   ]
  },
  {
   "cell_type": "code",
   "execution_count": 10,
   "metadata": {},
   "outputs": [
    {
     "data": {
      "text/html": [
       "<table>\n",
       "<thead><tr><th scope=col>group</th><th scope=col>var1</th><th scope=col>var2</th><th scope=col>vcov</th><th scope=col>sdcor</th></tr></thead>\n",
       "<tbody>\n",
       "\t<tr><td>leaves   </td><td>intercept</td><td>NA       </td><td>0        </td><td>0        </td></tr>\n",
       "\t<tr><td>leaves   </td><td>precip   </td><td>NA       </td><td>0        </td><td>0        </td></tr>\n",
       "</tbody>\n",
       "</table>\n"
      ],
      "text/latex": [
       "\\begin{tabular}{r|lllll}\n",
       " group & var1 & var2 & vcov & sdcor\\\\\n",
       "\\hline\n",
       "\t leaves    & intercept & NA        & 0         & 0        \\\\\n",
       "\t leaves    & precip    & NA        & 0         & 0        \\\\\n",
       "\\end{tabular}\n"
      ],
      "text/markdown": [
       "\n",
       "group | var1 | var2 | vcov | sdcor | \n",
       "|---|---|\n",
       "| leaves    | intercept | NA        | 0         | 0         | \n",
       "| leaves    | precip    | NA        | 0         | 0         | \n",
       "\n",
       "\n"
      ],
      "text/plain": [
       "  group  var1      var2 vcov sdcor\n",
       "1 leaves intercept NA   0    0    \n",
       "2 leaves precip    NA   0    0    "
      ]
     },
     "metadata": {},
     "output_type": "display_data"
    }
   ],
   "source": [
    "colnames(priors)[1] <- 'group'\n",
    "priors"
   ]
  },
  {
   "cell_type": "code",
   "execution_count": 11,
   "metadata": {},
   "outputs": [],
   "source": [
    "write.csv(priors, \"./soybean_small_priors.csv\", row.names=FALSE)"
   ]
  }
 ],
 "metadata": {
  "kernelspec": {
   "display_name": "R",
   "language": "R",
   "name": "ir"
  },
  "language_info": {
   "codemirror_mode": "r",
   "file_extension": ".r",
   "mimetype": "text/x-r-source",
   "name": "R",
   "pygments_lexer": "r",
   "version": "3.4.1"
  }
 },
 "nbformat": 4,
 "nbformat_minor": 1
}
