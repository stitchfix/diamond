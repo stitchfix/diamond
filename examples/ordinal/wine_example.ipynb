{
 "cells": [
  {
   "cell_type": "markdown",
   "metadata": {},
   "source": [
    "# Diamond - Ordinal Logistic Regression\n",
    "The cumulative logistic model with proportional odds is\n",
    "$$Pr(y_i \\leq j) = \\sigma^{-1}(\\alpha_j + \\vec\\beta \\cdot \\vec x)$$\n",
    "where $\\sigma(x) = log \\frac{x}{1-x}$ is the logit function and $\\sigma^{-1}(x) = \\frac{1}{1+e^{-x}}$ is its inverse\n",
    "\n",
    "The likelihood of this model is\n",
    "$$l(\\textbf{x, y}| \\vec \\alpha, \\vec \\beta ) = \\sum\\limits_{i=1}^n \\sum\\limits_{j=1}^J y_{ij} \\left [ \\sigma^{-1}(\\alpha_j + \\vec \\beta \\cdot \\vec x_i) - \\sigma^{-1}(\\alpha_{j-1} + \\vec \\beta \\cdot \\vec x_i) \\right ]$$\n",
    "\n",
    "**Diamond** fits an $L_2$-regularized version of this model with a Fixed Hessian Newton method.\n",
    "* See Agresti, Categorical Data Analysis, 2nd Ed., Chapter 7 for a complete description of the proportional odds cumulative logistic model\n",
    "* The Fixed Hessian Newton method is adapted from [Thomas Minka](https://tminka.github.io/papers/logreg/minka-logreg.pdf). It requires the gradient and a single evaluation of the hessian\n",
    "* These derivatives are as follows. Here is a [citation](http://www.biomedcentral.com/content/supplementary/s12911-015-0133-y-s1.pdf), but it has a couple of types so beware"
   ]
  },
  {
   "cell_type": "markdown",
   "metadata": {},
   "source": [
    "### Gradient\n",
    "$$ \\frac{\\partial l}{\\partial \\alpha_1} = \\sum\\limits_{i=1}^n \\left [ 1(y_{ij} = 1)\\left (1 - \\sigma^{-1}(\\alpha_1 + \\vec \\beta \\cdot \\vec x_i) \\right ) - 1(y_{ij} = 2)\\left (\\frac{e^{\\alpha_1}}{e^{\\alpha_2} - e^{\\alpha_1}} + \\sigma^{-1}(\\alpha_1 + \\vec \\beta \\cdot \\vec x_i) \\right ) \\right ]$$\n",
    "\n",
    "for $2 \\leq j \\leq J-2$, the gradient is\n",
    "$$\\frac{\\partial l}{\\partial \\alpha_j} = \\sum\\limits_{i=1}^n \\left [ 1(y_{ij} = j)\\left (\\frac{e^{\\alpha_j}}{e^{\\alpha_j} - e^{\\alpha_{j-1}}} - \\sigma^{-1}(\\alpha_j + \\vec \\beta \\cdot \\vec x_i) \\right ) - 1(y_{ij} = j+1)\\left (\\frac{e^{\\alpha_j}}{e^{\\alpha_{j+1}} - e^{\\alpha_j}} + \\sigma^{-1}(\\alpha_j + \\vec \\beta \\cdot \\vec x_i) \\right ) \\right ]$$\n",
    "\n",
    "For the last intercept,\n",
    "$$\\frac{\\partial l}{\\partial \\alpha_{J-1}} = \\sum\\limits_{i=1}^n \\left [ 1(y_{ij} = J-1)\\left (\\frac{e^{\\alpha_{J-1}}}{e^{\\alpha_{J-1}} - e^{\\alpha_{J-2}}} - \\sigma^{-1}(\\alpha_{J-1} + \\vec \\beta \\cdot \\vec x_i) \\right ) - 1(y_{ij} = J)\\left (\\sigma^{-1}(\\alpha_{J-1} + \\vec \\beta \\cdot \\vec x_i) \\right ) \\right ]$$\n",
    "\n",
    "Lastly,\n",
    "$$\\frac{\\partial l}{\\partial \\beta} = \\sum\\limits_{i=1}^n \\left [ 1(y_{ij} = 1)\\left [ \\left ( 1 - \\sigma^{-1}(\\alpha_1 + \\vec \\beta \\cdot \\vec x_i) \\right ) \\vec x_i \\right ]+ \\sum\\limits_{j=2}^{J-1} \\left [ \\left ( 1 - \\sigma^{-1}(\\alpha_j + \\vec\\beta \\cdot \\vec x_i) - \\sigma^{-1}(\\alpha_{j-1} + \\vec\\beta \\cdot \\vec x_i) \\right ) \\vec x_i \\right ] + 1(y_{ij} = J)\\left [ \\left (-\\sigma^{-1}(\\alpha_{J-1} + \\vec\\beta \\cdot \\vec x_i) \\right ) \\vec x_i \\right ] \\right ]$$"
   ]
  },
  {
   "cell_type": "markdown",
   "metadata": {},
   "source": [
    "### Hessian.\n",
    "$$ \\frac{\\partial^2 l}{\\partial \\alpha_1^2} = \\sum\\limits_{i=1}^n \\left [ \n",
    "1(y_{ij} = 1)\\left ( \n",
    "  \\frac{e^{\\alpha_1 + \\vec\\beta\\cdot\\vec x_i}}{(1 + e^{\\alpha_1 + \\vec\\beta\\cdot\\vec x_i})^2} \\right )  -  1(y_{ij} = 2)\\left ( \n",
    "  \\frac{e^{\\alpha_1 + \\alpha_2}}{(e^{\\alpha_2} - e^{\\alpha_1})^2} + \\frac{e^{\\alpha_1 + \\vec\\beta\\cdot\\vec x_i}}{(1 + e^{\\alpha_1 + \\vec\\beta\\cdot\\vec x_i})^2} \n",
    "  \\right ) \n",
    "\\right ]$$\n",
    "\n",
    "for $2 \\leq j \\leq J-2$, the Hessian is\n",
    "$$ \\frac{\\partial^2 l}{\\partial \\alpha_j^2} = \n",
    "\\sum\\limits_{i=1}^n \\left [ \n",
    "  -1(y_{ij} = j) \\left ( \n",
    "        \\frac{e^{\\alpha_{j-1} + \\alpha_j}}{(e^{\\alpha_j} - e^{\\alpha_{j-1}})^2} + \n",
    "        \\frac{e^{\\alpha_j + \\vec\\beta\\cdot\\vec x_i}}{(1 + e^{\\alpha_j + \\vec\\beta\\cdot\\vec x_i})^2} \n",
    "  \\right ) - 1(y_{ij} = j+1) \\left ( \n",
    "      \\frac{e^{\\alpha_{j} + \\alpha_{j+1}}}{(e^{\\alpha_{j+1}} - e^{\\alpha_{j}})^2} + \n",
    "      \\frac{e^{\\alpha_j + \\vec\\beta\\cdot\\vec x_i}}{(1 + e^{\\alpha_j + \\vec\\beta\\cdot\\vec x_i})^2}   \n",
    "  \\right )\n",
    "\\right ]$$\n",
    "\n",
    "For the last intercept,\n",
    "$$ \\frac{\\partial^2 l}{\\partial \\alpha_{J-1}^2} = \n",
    "\\sum\\limits_{i=1}^n \\left [ \n",
    "  -1(y_{ij} = J-1) \\left ( \n",
    "        \\frac{e^{\\alpha_{J-2} + \\alpha_{J-1}}}{(e^{\\alpha_{J-1}} - e^{\\alpha_{J-2}})^2} + \n",
    "        \\frac{e^{\\alpha_{J-1} + \\vec\\beta\\cdot\\vec x_i}}{(1 + e^{\\alpha_{J-1} + \\vec\\beta\\cdot\\vec x_i})^2} \n",
    "  \\right ) - 1(y_{ij} = J) \\left ( \n",
    "      \\frac{e^{\\alpha_{J-1} + \\vec\\beta\\cdot\\vec x_i}}{(1 + e^{\\alpha_{J-1} + \\vec\\beta\\cdot\\vec x_i})^2}   \n",
    "  \\right )\n",
    "\\right ]$$\n",
    "\n",
    "For adjacent intercepts, $1 \\leq j \\leq J-2$,\n",
    "$$ \\frac{\\partial^2 l}{\\partial \\alpha_j \\partial \\alpha_{j+1}} = \n",
    "\\sum\\limits_{i=1}^n \\left [ \n",
    "    1(y_{ij} = j+1) \\left (\n",
    "        \\frac{e^{\\alpha_j + \\alpha_{j+1}}}{(e^{\\alpha_{j+1}} - e^{\\alpha_j})^2}\n",
    "    \\right )\n",
    "\\right ]$$\n",
    "\n",
    "Non-adjacent intercepts have zero mixed partials, i.e. for $1 \\leq j \\leq J-3$\n",
    "$$ \\frac{\\partial^2 l}{\\partial \\alpha_j \\partial \\alpha_{j+2}} = 0$$"
   ]
  },
  {
   "cell_type": "markdown",
   "metadata": {},
   "source": [
    "Penultimately, the intercept-slope mixed partial is\n",
    "$$ \\frac{\\partial^2 l}{\\partial \\alpha_j \\partial \\beta} = \n",
    "\\sum\\limits_{i=1}^n \\left [ \n",
    "    \\left (\n",
    "        1(y_{ij} = j) + 1(y_{ij} = j+1)\n",
    "    \\right ) \n",
    "    \\left (\n",
    "        -\\frac{e^{\\alpha_j + \\vec\\beta\\cdot\\vec x_i}}{(1+e^{\\alpha_j + \\vec\\beta\\cdot\\vec x_i})^2}\n",
    "    \\right ) \\vec x_i\n",
    "\\right ]$$\n",
    "\n",
    "And finally, \n",
    "$$ \\frac{\\partial^2 l}{\\partial \\beta^2} = X^TDX$$ where D is a n-by-n diagonal matrix whose i-th entry is \n",
    "$$D_{ii} = \n",
    "-1(y_i = 1) \\left [\n",
    "    \\frac{e^{\\alpha_1 + \\vec\\beta\\cdot\\vec x_i}}{(1+e^{\\alpha_1 + \\vec\\beta\\cdot\\vec x_i})^2}\n",
    "\\right ]\n",
    "- \\sum\\limits_{j=2}^{J-1} 1(y_i = j) \\left [\n",
    "\\frac{e^{\\alpha_j + \\vec\\beta\\cdot\\vec x_i}}{(1+e^{\\alpha_j + \\vec\\beta\\cdot\\vec x_i})^2} +\n",
    "\\frac{e^{\\alpha_{j-1} + \\vec\\beta\\cdot\\vec x_i}}{(1+e^{\\alpha_{j-1} + \\vec\\beta\\cdot\\vec x_i})^2}\n",
    "\\right ]\n",
    "- 1(y_i = J) \\left [\n",
    "    \\frac{e^{\\alpha_{J-1} + \\vec\\beta\\cdot\\vec x_i}}{(1+e^{\\alpha_{J-1} + \\vec\\beta\\cdot\\vec x_i})^2}\n",
    "\\right ]$$"
   ]
  },
  {
   "cell_type": "code",
   "execution_count": 1,
   "metadata": {},
   "outputs": [],
   "source": [
    "import numpy as np\n",
    "import pandas as pd\n",
    "from numpy.linalg import norm\n",
    "from diamond.glms.cumulative_logistic import CumulativeLogisticRegression\n",
    " # gradient function is just to illustrate convergence\n",
    "from diamond.solvers.utils import l2_clogistic_gradient \n",
    "import logging\n",
    "import seaborn as sns\n",
    "import matplotlib.pyplot as plt\n",
    "from __future__ import print_function\n",
    "\n",
    "logging.basicConfig(level=logging.INFO)\n"
   ]
  },
  {
   "cell_type": "code",
   "execution_count": 2,
   "metadata": {},
   "outputs": [
    {
     "data": {
      "text/html": [
       "<div>\n",
       "<style scoped>\n",
       "    .dataframe tbody tr th:only-of-type {\n",
       "        vertical-align: middle;\n",
       "    }\n",
       "\n",
       "    .dataframe tbody tr th {\n",
       "        vertical-align: top;\n",
       "    }\n",
       "\n",
       "    .dataframe thead th {\n",
       "        text-align: right;\n",
       "    }\n",
       "</style>\n",
       "<table border=\"1\" class=\"dataframe\">\n",
       "  <thead>\n",
       "    <tr style=\"text-align: right;\">\n",
       "      <th></th>\n",
       "      <th>response</th>\n",
       "      <th>rating</th>\n",
       "      <th>temp</th>\n",
       "      <th>contact</th>\n",
       "      <th>bottle</th>\n",
       "      <th>judge</th>\n",
       "    </tr>\n",
       "  </thead>\n",
       "  <tbody>\n",
       "    <tr>\n",
       "      <th>0</th>\n",
       "      <td>36</td>\n",
       "      <td>2</td>\n",
       "      <td>cold</td>\n",
       "      <td>no</td>\n",
       "      <td>1</td>\n",
       "      <td>1</td>\n",
       "    </tr>\n",
       "    <tr>\n",
       "      <th>1</th>\n",
       "      <td>48</td>\n",
       "      <td>3</td>\n",
       "      <td>cold</td>\n",
       "      <td>no</td>\n",
       "      <td>2</td>\n",
       "      <td>1</td>\n",
       "    </tr>\n",
       "    <tr>\n",
       "      <th>2</th>\n",
       "      <td>47</td>\n",
       "      <td>3</td>\n",
       "      <td>cold</td>\n",
       "      <td>yes</td>\n",
       "      <td>3</td>\n",
       "      <td>1</td>\n",
       "    </tr>\n",
       "    <tr>\n",
       "      <th>3</th>\n",
       "      <td>67</td>\n",
       "      <td>4</td>\n",
       "      <td>cold</td>\n",
       "      <td>yes</td>\n",
       "      <td>4</td>\n",
       "      <td>1</td>\n",
       "    </tr>\n",
       "    <tr>\n",
       "      <th>4</th>\n",
       "      <td>77</td>\n",
       "      <td>4</td>\n",
       "      <td>warm</td>\n",
       "      <td>no</td>\n",
       "      <td>5</td>\n",
       "      <td>1</td>\n",
       "    </tr>\n",
       "  </tbody>\n",
       "</table>\n",
       "</div>"
      ],
      "text/plain": [
       "   response  rating  temp contact  bottle  judge\n",
       "0        36       2  cold      no       1      1\n",
       "1        48       3  cold      no       2      1\n",
       "2        47       3  cold     yes       3      1\n",
       "3        67       4  cold     yes       4      1\n",
       "4        77       4  warm      no       5      1"
      ]
     },
     "execution_count": 2,
     "metadata": {},
     "output_type": "execute_result"
    }
   ],
   "source": [
    "wine = pd.read_csv(\"wine.csv\")\n",
    "wine.head()"
   ]
  },
  {
   "cell_type": "code",
   "execution_count": 3,
   "metadata": {},
   "outputs": [],
   "source": [
    "# convert categorical to numeric\n",
    "wine.temp = 1.0 * (wine.temp == 'warm')\n",
    "wine.contact = 1.0 * (wine.contact == \"yes\")"
   ]
  },
  {
   "cell_type": "code",
   "execution_count": 4,
   "metadata": {},
   "outputs": [
    {
     "data": {
      "text/html": [
       "<div>\n",
       "<style scoped>\n",
       "    .dataframe tbody tr th:only-of-type {\n",
       "        vertical-align: middle;\n",
       "    }\n",
       "\n",
       "    .dataframe tbody tr th {\n",
       "        vertical-align: top;\n",
       "    }\n",
       "\n",
       "    .dataframe thead th {\n",
       "        text-align: right;\n",
       "    }\n",
       "</style>\n",
       "<table border=\"1\" class=\"dataframe\">\n",
       "  <thead>\n",
       "    <tr style=\"text-align: right;\">\n",
       "      <th></th>\n",
       "      <th>group</th>\n",
       "      <th>sdcor</th>\n",
       "      <th>var1</th>\n",
       "      <th>var2</th>\n",
       "      <th>vcov</th>\n",
       "    </tr>\n",
       "  </thead>\n",
       "  <tbody>\n",
       "    <tr>\n",
       "      <th>0</th>\n",
       "      <td>judge</td>\n",
       "      <td>1.131282</td>\n",
       "      <td>intercept</td>\n",
       "      <td>NaN</td>\n",
       "      <td>1.2798</td>\n",
       "    </tr>\n",
       "  </tbody>\n",
       "</table>\n",
       "</div>"
      ],
      "text/plain": [
       "   group     sdcor       var1  var2    vcov\n",
       "0  judge  1.131282  intercept   NaN  1.2798"
      ]
     },
     "execution_count": 4,
     "metadata": {},
     "output_type": "execute_result"
    }
   ],
   "source": [
    "clmm_variance =  1.2798  # estimated in R's ordinal package\n",
    "df_variance = pd.DataFrame({\"group\": \"judge\", \"var1\":\"intercept\", \"vcov\":clmm_variance, \n",
    "                            \"var2\":np.nan, \"sdcor\":np.sqrt(clmm_variance)}, index=[0])\n",
    "df_variance"
   ]
  },
  {
   "cell_type": "markdown",
   "metadata": {},
   "source": [
    "# Fixed Hessian Newton Method"
   ]
  },
  {
   "cell_type": "code",
   "execution_count": 5,
   "metadata": {
    "scrolled": true
   },
   "outputs": [
    {
     "name": "stderr",
     "output_type": "stream",
     "text": [
      "INFO:diamond.glms.glm:creating main design matrix\n",
      "INFO:diamond.glms.glm:creating judge design matrix\n",
      "INFO:diamond.glms.cumulative_logistic:Creating response matrix.\n",
      "INFO:diamond.glms.cumulative_logistic:Created response matrix with shape (72, 5)\n",
      "INFO:diamond.glms.glm:creating covariance matrix\n",
      "INFO:diamond.glms.cumulative_logistic:creating Hessians\n",
      "INFO:diamond.solvers.diamond_cumulative_logistic:Starting to fit fixed effects\n",
      "INFO:diamond.solvers.diamond_cumulative_logistic:Starting to fit judge\n",
      "INFO:diamond.solvers.diamond_cumulative_logistic:seconds elapsed: 0\n",
      "INFO:diamond.solvers.diamond_cumulative_logistic:iteration: 0 relative coef change: 1.000000\n",
      "INFO:diamond.solvers.diamond_cumulative_logistic:Starting to fit fixed effects\n",
      "INFO:diamond.solvers.diamond_cumulative_logistic:Starting to fit judge\n",
      "INFO:diamond.solvers.diamond_cumulative_logistic:seconds elapsed: 0\n",
      "INFO:diamond.solvers.diamond_cumulative_logistic:iteration: 1 relative coef change: 0.101849\n",
      "INFO:diamond.solvers.diamond_cumulative_logistic:Starting to fit fixed effects\n",
      "INFO:diamond.solvers.diamond_cumulative_logistic:Starting to fit judge\n",
      "INFO:diamond.solvers.diamond_cumulative_logistic:seconds elapsed: 0\n",
      "INFO:diamond.solvers.diamond_cumulative_logistic:iteration: 2 relative coef change: 0.015950\n",
      "INFO:diamond.solvers.diamond_cumulative_logistic:Starting to fit fixed effects\n",
      "INFO:diamond.solvers.diamond_cumulative_logistic:Starting to fit judge\n",
      "INFO:diamond.solvers.diamond_cumulative_logistic:seconds elapsed: 0\n",
      "INFO:diamond.solvers.diamond_cumulative_logistic:iteration: 3 relative coef change: 0.002811\n",
      "INFO:diamond.solvers.diamond_cumulative_logistic:Starting to fit fixed effects\n",
      "INFO:diamond.solvers.diamond_cumulative_logistic:Starting to fit judge\n",
      "INFO:diamond.solvers.diamond_cumulative_logistic:seconds elapsed: 0\n",
      "INFO:diamond.solvers.diamond_cumulative_logistic:iteration: 4 relative coef change: 0.000934\n",
      "INFO:diamond.solvers.diamond_cumulative_logistic:Starting to fit fixed effects\n",
      "INFO:diamond.solvers.diamond_cumulative_logistic:Starting to fit judge\n",
      "INFO:diamond.solvers.diamond_cumulative_logistic:seconds elapsed: 0\n",
      "INFO:diamond.solvers.diamond_cumulative_logistic:iteration: 5 relative coef change: 0.000622\n",
      "INFO:diamond.solvers.diamond_cumulative_logistic:Starting to fit fixed effects\n",
      "INFO:diamond.solvers.diamond_cumulative_logistic:Starting to fit judge\n",
      "INFO:diamond.solvers.diamond_cumulative_logistic:seconds elapsed: 0\n",
      "INFO:diamond.solvers.diamond_cumulative_logistic:iteration: 6 relative coef change: 0.000457\n",
      "INFO:diamond.solvers.diamond_cumulative_logistic:Starting to fit fixed effects\n",
      "INFO:diamond.solvers.diamond_cumulative_logistic:Starting to fit judge\n",
      "INFO:diamond.solvers.diamond_cumulative_logistic:seconds elapsed: 0\n",
      "INFO:diamond.solvers.diamond_cumulative_logistic:iteration: 7 relative coef change: 0.000338\n",
      "INFO:diamond.solvers.diamond_cumulative_logistic:Starting to fit fixed effects\n",
      "INFO:diamond.solvers.diamond_cumulative_logistic:Starting to fit judge\n",
      "INFO:diamond.solvers.diamond_cumulative_logistic:seconds elapsed: 0\n",
      "INFO:diamond.solvers.diamond_cumulative_logistic:iteration: 8 relative coef change: 0.000249\n",
      "INFO:diamond.solvers.diamond_cumulative_logistic:Starting to fit fixed effects\n",
      "INFO:diamond.solvers.diamond_cumulative_logistic:Starting to fit judge\n",
      "INFO:diamond.solvers.diamond_cumulative_logistic:seconds elapsed: 0\n",
      "INFO:diamond.solvers.diamond_cumulative_logistic:iteration: 9 relative coef change: 0.000184\n",
      "INFO:diamond.solvers.diamond_cumulative_logistic:Starting to fit fixed effects\n",
      "INFO:diamond.solvers.diamond_cumulative_logistic:Starting to fit judge\n",
      "INFO:diamond.solvers.diamond_cumulative_logistic:seconds elapsed: 0\n",
      "INFO:diamond.solvers.diamond_cumulative_logistic:iteration: 10 relative coef change: 0.000136\n",
      "INFO:diamond.solvers.diamond_cumulative_logistic:Starting to fit fixed effects\n",
      "INFO:diamond.solvers.diamond_cumulative_logistic:Starting to fit judge\n",
      "INFO:diamond.solvers.diamond_cumulative_logistic:seconds elapsed: 0\n",
      "INFO:diamond.solvers.diamond_cumulative_logistic:iteration: 11 relative coef change: 0.000100\n",
      "INFO:diamond.solvers.diamond_cumulative_logistic:Starting to fit fixed effects\n",
      "INFO:diamond.solvers.diamond_cumulative_logistic:Starting to fit judge\n",
      "INFO:diamond.solvers.diamond_cumulative_logistic:seconds elapsed: 0\n",
      "INFO:diamond.solvers.diamond_cumulative_logistic:iteration: 12 relative coef change: 0.000074\n",
      "INFO:diamond.solvers.diamond_cumulative_logistic:Starting to fit fixed effects\n",
      "INFO:diamond.solvers.diamond_cumulative_logistic:Starting to fit judge\n",
      "INFO:diamond.solvers.diamond_cumulative_logistic:seconds elapsed: 0\n",
      "INFO:diamond.solvers.diamond_cumulative_logistic:iteration: 13 relative coef change: 0.000055\n",
      "INFO:diamond.solvers.diamond_cumulative_logistic:Starting to fit fixed effects\n",
      "INFO:diamond.solvers.diamond_cumulative_logistic:Starting to fit judge\n",
      "INFO:diamond.solvers.diamond_cumulative_logistic:seconds elapsed: 0\n",
      "INFO:diamond.solvers.diamond_cumulative_logistic:iteration: 14 relative coef change: 0.000040\n",
      "INFO:diamond.solvers.diamond_cumulative_logistic:Starting to fit fixed effects\n",
      "INFO:diamond.solvers.diamond_cumulative_logistic:Starting to fit judge\n",
      "INFO:diamond.solvers.diamond_cumulative_logistic:seconds elapsed: 0\n",
      "INFO:diamond.solvers.diamond_cumulative_logistic:iteration: 15 relative coef change: 0.000030\n",
      "INFO:diamond.solvers.diamond_cumulative_logistic:Starting to fit fixed effects\n",
      "INFO:diamond.solvers.diamond_cumulative_logistic:Starting to fit judge\n",
      "INFO:diamond.solvers.diamond_cumulative_logistic:seconds elapsed: 0\n",
      "INFO:diamond.solvers.diamond_cumulative_logistic:iteration: 16 relative coef change: 0.000022\n",
      "INFO:diamond.solvers.diamond_cumulative_logistic:Starting to fit fixed effects\n",
      "INFO:diamond.solvers.diamond_cumulative_logistic:Starting to fit judge\n",
      "INFO:diamond.solvers.diamond_cumulative_logistic:seconds elapsed: 0\n",
      "INFO:diamond.solvers.diamond_cumulative_logistic:iteration: 17 relative coef change: 0.000016\n",
      "INFO:diamond.solvers.diamond_cumulative_logistic:Starting to fit fixed effects\n",
      "INFO:diamond.solvers.diamond_cumulative_logistic:Starting to fit judge\n",
      "INFO:diamond.solvers.diamond_cumulative_logistic:seconds elapsed: 0\n",
      "INFO:diamond.solvers.diamond_cumulative_logistic:iteration: 18 relative coef change: 0.000012\n",
      "INFO:diamond.solvers.diamond_cumulative_logistic:Starting to fit fixed effects\n",
      "INFO:diamond.solvers.diamond_cumulative_logistic:Starting to fit judge\n",
      "INFO:diamond.solvers.diamond_cumulative_logistic:seconds elapsed: 0\n",
      "INFO:diamond.solvers.diamond_cumulative_logistic:iteration: 19 relative coef change: 0.000009\n",
      "INFO:diamond.solvers.diamond_cumulative_logistic:Starting to fit fixed effects\n",
      "INFO:diamond.solvers.diamond_cumulative_logistic:Starting to fit judge\n",
      "INFO:diamond.solvers.diamond_cumulative_logistic:seconds elapsed: 0\n",
      "INFO:diamond.solvers.diamond_cumulative_logistic:iteration: 20 relative coef change: 0.000007\n",
      "INFO:diamond.solvers.diamond_cumulative_logistic:Starting to fit fixed effects\n",
      "INFO:diamond.solvers.diamond_cumulative_logistic:Starting to fit judge\n",
      "INFO:diamond.solvers.diamond_cumulative_logistic:seconds elapsed: 0\n",
      "INFO:diamond.solvers.diamond_cumulative_logistic:iteration: 21 relative coef change: 0.000005\n",
      "INFO:diamond.solvers.diamond_cumulative_logistic:Starting to fit fixed effects\n",
      "INFO:diamond.solvers.diamond_cumulative_logistic:Starting to fit judge\n",
      "INFO:diamond.solvers.diamond_cumulative_logistic:seconds elapsed: 0\n",
      "INFO:diamond.solvers.diamond_cumulative_logistic:iteration: 22 relative coef change: 0.000004\n",
      "INFO:diamond.solvers.diamond_cumulative_logistic:Starting to fit fixed effects\n",
      "INFO:diamond.solvers.diamond_cumulative_logistic:Starting to fit judge\n",
      "INFO:diamond.solvers.diamond_cumulative_logistic:seconds elapsed: 0\n",
      "INFO:diamond.solvers.diamond_cumulative_logistic:iteration: 23 relative coef change: 0.000003\n",
      "INFO:diamond.solvers.diamond_cumulative_logistic:Starting to fit fixed effects\n",
      "INFO:diamond.solvers.diamond_cumulative_logistic:Starting to fit judge\n",
      "INFO:diamond.solvers.diamond_cumulative_logistic:seconds elapsed: 0\n",
      "INFO:diamond.solvers.diamond_cumulative_logistic:iteration: 24 relative coef change: 0.000002\n",
      "INFO:diamond.solvers.diamond_cumulative_logistic:Starting to fit fixed effects\n"
     ]
    },
    {
     "name": "stderr",
     "output_type": "stream",
     "text": [
      "INFO:diamond.solvers.diamond_cumulative_logistic:Starting to fit judge\n",
      "INFO:diamond.solvers.diamond_cumulative_logistic:seconds elapsed: 0\n",
      "INFO:diamond.solvers.diamond_cumulative_logistic:iteration: 25 relative coef change: 0.000001\n",
      "INFO:diamond.solvers.diamond_cumulative_logistic:Starting to fit fixed effects\n",
      "INFO:diamond.solvers.diamond_cumulative_logistic:Starting to fit judge\n",
      "INFO:diamond.solvers.diamond_cumulative_logistic:seconds elapsed: 0\n",
      "INFO:diamond.solvers.diamond_cumulative_logistic:iteration: 26 relative coef change: 0.000001\n",
      "INFO:diamond.solvers.diamond_cumulative_logistic:Starting to fit fixed effects\n",
      "INFO:diamond.solvers.diamond_cumulative_logistic:Starting to fit judge\n",
      "INFO:diamond.solvers.diamond_cumulative_logistic:seconds elapsed: 0\n",
      "INFO:diamond.solvers.diamond_cumulative_logistic:iteration: 27 relative coef change: 0.000001\n",
      "INFO:diamond.solvers.diamond_cumulative_logistic:Starting to fit fixed effects\n",
      "INFO:diamond.solvers.diamond_cumulative_logistic:Starting to fit judge\n",
      "INFO:diamond.solvers.diamond_cumulative_logistic:seconds elapsed: 1\n",
      "INFO:diamond.solvers.diamond_cumulative_logistic:iteration: 28 relative coef change: 0.000001\n",
      "INFO:diamond.solvers.diamond_cumulative_logistic:Starting to fit fixed effects\n",
      "INFO:diamond.solvers.diamond_cumulative_logistic:Starting to fit judge\n",
      "INFO:diamond.solvers.diamond_cumulative_logistic:seconds elapsed: 1\n",
      "INFO:diamond.solvers.diamond_cumulative_logistic:iteration: 29 relative coef change: 0.000000\n",
      "INFO:diamond.solvers.diamond_cumulative_logistic:Starting to fit fixed effects\n",
      "INFO:diamond.solvers.diamond_cumulative_logistic:Starting to fit judge\n",
      "INFO:diamond.solvers.diamond_cumulative_logistic:seconds elapsed: 1\n",
      "INFO:diamond.solvers.diamond_cumulative_logistic:iteration: 30 relative coef change: 0.000000\n",
      "INFO:diamond.solvers.diamond_cumulative_logistic:Starting to fit fixed effects\n",
      "INFO:diamond.solvers.diamond_cumulative_logistic:Starting to fit judge\n",
      "INFO:diamond.solvers.diamond_cumulative_logistic:seconds elapsed: 1\n",
      "INFO:diamond.solvers.diamond_cumulative_logistic:iteration: 31 relative coef change: 0.000000\n",
      "INFO:diamond.solvers.diamond_cumulative_logistic:Starting to fit fixed effects\n",
      "INFO:diamond.solvers.diamond_cumulative_logistic:Starting to fit judge\n",
      "INFO:diamond.solvers.diamond_cumulative_logistic:seconds elapsed: 1\n",
      "INFO:diamond.solvers.diamond_cumulative_logistic:iteration: 32 relative coef change: 0.000000\n",
      "INFO:diamond.solvers.diamond_cumulative_logistic:Starting to fit fixed effects\n",
      "INFO:diamond.solvers.diamond_cumulative_logistic:Starting to fit judge\n",
      "INFO:diamond.solvers.diamond_cumulative_logistic:seconds elapsed: 1\n",
      "INFO:diamond.solvers.diamond_cumulative_logistic:iteration: 33 relative coef change: 0.000000\n",
      "INFO:diamond.solvers.diamond_cumulative_logistic:Starting to fit fixed effects\n",
      "INFO:diamond.solvers.diamond_cumulative_logistic:Starting to fit judge\n",
      "INFO:diamond.solvers.diamond_cumulative_logistic:seconds elapsed: 1\n",
      "INFO:diamond.solvers.diamond_cumulative_logistic:iteration: 34 relative coef change: 0.000000\n",
      "INFO:diamond.solvers.diamond_cumulative_logistic:Starting to fit fixed effects\n",
      "INFO:diamond.solvers.diamond_cumulative_logistic:Starting to fit judge\n",
      "INFO:diamond.solvers.diamond_cumulative_logistic:seconds elapsed: 1\n",
      "INFO:diamond.solvers.diamond_cumulative_logistic:iteration: 35 relative coef change: 0.000000\n",
      "INFO:diamond.solvers.diamond_cumulative_logistic:Starting to fit fixed effects\n",
      "INFO:diamond.solvers.diamond_cumulative_logistic:Starting to fit judge\n",
      "INFO:diamond.solvers.diamond_cumulative_logistic:seconds elapsed: 1\n",
      "INFO:diamond.solvers.diamond_cumulative_logistic:iteration: 36 relative coef change: 0.000000\n",
      "INFO:diamond.solvers.diamond_cumulative_logistic:Starting to fit fixed effects\n",
      "INFO:diamond.solvers.diamond_cumulative_logistic:Starting to fit judge\n",
      "INFO:diamond.solvers.diamond_cumulative_logistic:seconds elapsed: 1\n",
      "INFO:diamond.solvers.diamond_cumulative_logistic:iteration: 37 relative coef change: 0.000000\n",
      "INFO:diamond.solvers.diamond_cumulative_logistic:Starting to fit fixed effects\n",
      "INFO:diamond.solvers.diamond_cumulative_logistic:Starting to fit judge\n",
      "INFO:diamond.solvers.diamond_cumulative_logistic:seconds elapsed: 1\n",
      "INFO:diamond.solvers.diamond_cumulative_logistic:iteration: 38 relative coef change: 0.000000\n",
      "INFO:diamond.solvers.diamond_cumulative_logistic:Starting to fit fixed effects\n",
      "INFO:diamond.solvers.diamond_cumulative_logistic:Starting to fit judge\n",
      "INFO:diamond.solvers.diamond_cumulative_logistic:seconds elapsed: 1\n",
      "INFO:diamond.solvers.diamond_cumulative_logistic:iteration: 39 relative coef change: 0.000000\n",
      "INFO:diamond.solvers.diamond_cumulative_logistic:Starting to fit fixed effects\n",
      "INFO:diamond.solvers.diamond_cumulative_logistic:Starting to fit judge\n",
      "INFO:diamond.solvers.diamond_cumulative_logistic:seconds elapsed: 1\n",
      "INFO:diamond.solvers.diamond_cumulative_logistic:iteration: 40 relative coef change: 0.000000\n",
      "INFO:diamond.solvers.diamond_cumulative_logistic:Starting to fit fixed effects\n",
      "INFO:diamond.solvers.diamond_cumulative_logistic:Starting to fit judge\n",
      "INFO:diamond.solvers.diamond_cumulative_logistic:seconds elapsed: 1\n",
      "INFO:diamond.solvers.diamond_cumulative_logistic:iteration: 41 relative coef change: 0.000000\n",
      "INFO:diamond.solvers.diamond_cumulative_logistic:Starting to fit fixed effects\n",
      "INFO:diamond.solvers.diamond_cumulative_logistic:Starting to fit judge\n",
      "INFO:diamond.solvers.diamond_cumulative_logistic:seconds elapsed: 1\n",
      "INFO:diamond.solvers.diamond_cumulative_logistic:iteration: 42 relative coef change: 0.000000\n",
      "INFO:diamond.solvers.diamond_cumulative_logistic:total seconds elapsed: 1\n",
      "INFO:diamond.solvers.diamond_cumulative_logistic:reached convergence after 42 steps. relative coef change: 0.000000\n",
      "INFO:diamond.glms.cumulative_logistic:extracting coefficients\n"
     ]
    }
   ],
   "source": [
    "ff = \"rating ~ temp + contact + (1 | judge)\"\n",
    "solver = CumulativeLogisticRegression(wine, df_variance)\n",
    "results = solver.fit(ff, tol=1e-8, verbose=True)"
   ]
  },
  {
   "cell_type": "code",
   "execution_count": 6,
   "metadata": {},
   "outputs": [],
   "source": [
    "intercept_R = pd.read_csv(\"intercept_R.txt\", header=None)[0]\n",
    "fixef_R = pd.read_csv(\"fixef_R.txt\", header=None)[0]\n",
    "ranef_R = pd.read_csv(\"ranef_R.txt\", header=None)[0]"
   ]
  },
  {
   "cell_type": "code",
   "execution_count": 7,
   "metadata": {},
   "outputs": [
    {
     "data": {
      "image/png": "[encoded data removed]",
      "text/plain": [
       "<matplotlib.figure.Figure at 0x116444588>"
      ]
     },
     "metadata": {},
     "output_type": "display_data"
    },
    {
     "name": "stderr",
     "output_type": "stream",
     "text": [
      "INFO:root:rel difference of 0.029781\n"
     ]
    }
   ],
   "source": [
    "plt.scatter(results['intercepts'], intercept_R)\n",
    "plt.xlabel(\"Diamond Estimate\")\n",
    "plt.ylabel(\"R::Ordinal Estimate\")\n",
    "plt.title(\"Intercepts\")\n",
    "plt.show()\n",
    "logging.info(\"rel difference of %f\",\n",
    "             (norm(results['intercepts'] - intercept_R, 2)/norm(intercept_R, 2)))"
   ]
  },
  {
   "cell_type": "code",
   "execution_count": 8,
   "metadata": {},
   "outputs": [
    {
     "data": {
      "image/png": "[encoded data removed]",
      "text/plain": [
       "<matplotlib.figure.Figure at 0x1164441d0>"
      ]
     },
     "metadata": {},
     "output_type": "display_data"
    },
    {
     "name": "stderr",
     "output_type": "stream",
     "text": [
      "INFO:root:rel difference of 0.030930\n"
     ]
    }
   ],
   "source": [
    "plt.scatter(results['main'].main_value * -1.0, fixef_R)\n",
    "plt.xlabel(\"Diamond Estimate\")\n",
    "plt.ylabel(\"R::Ordinal Estimate\")\n",
    "plt.title(\"Main Effects\")\n",
    "plt.show()\n",
    "logging.info(\"rel difference of %f\", (norm(results['main'].main_value*-1.0 - fixef_R, 2)/norm(fixef_R, 2)))"
   ]
  },
  {
   "cell_type": "code",
   "execution_count": 9,
   "metadata": {},
   "outputs": [
    {
     "data": {
      "image/png": "[encoded data removed]",
      "text/plain": [
       "<matplotlib.figure.Figure at 0x116659cf8>"
      ]
     },
     "metadata": {},
     "output_type": "display_data"
    },
    {
     "name": "stderr",
     "output_type": "stream",
     "text": [
      "INFO:root:rel difference of 0.022036\n"
     ]
    }
   ],
   "source": [
    "plt.scatter(results['judge'].intercept*-1.0, ranef_R)\n",
    "plt.xlabel(\"Diamond Estimate\")\n",
    "plt.ylabel(\"R::Ordinal Estimate\")\n",
    "plt.title(\"Random Effects\")\n",
    "plt.show()\n",
    "logging.info(\"rel difference of %f\",\n",
    "             (norm(results['judge'].intercept*-1.0 - ranef_R, 2)/norm(ranef_R, 2)))"
   ]
  },
  {
   "cell_type": "markdown",
   "metadata": {},
   "source": [
    "The two solutions to this convex optimization problem are slightly different; based on the gradients, it appears the diamond solution is slightly closer to the optimum than the R solution."
   ]
  },
  {
   "cell_type": "code",
   "execution_count": 10,
   "metadata": {},
   "outputs": [
    {
     "data": {
      "text/plain": [
       "array([ -2.14328146e-08,  -6.59802382e-08,  -4.57973606e-08,\n",
       "        -2.35845050e-08,  -8.06506932e-08,  -8.03042663e-08])"
      ]
     },
     "execution_count": 10,
     "metadata": {},
     "output_type": "execute_result"
    }
   ],
   "source": [
    "l2_clogistic_gradient(X=solver.main_design,\n",
    "                      Y=solver.response,\n",
    "                      intercept=True,\n",
    "                      beta=results[\"main\"][\"main_value\"].values,\n",
    "                      alpha=results[\"intercepts\"],\n",
    "                      # need to adjust for random effects\n",
    "                      offset=solver.grouping_designs[\"judge\"].dot(results[\"judge\"][\"intercept\"].values))"
   ]
  },
  {
   "cell_type": "code",
   "execution_count": 11,
   "metadata": {},
   "outputs": [
    {
     "data": {
      "text/plain": [
       "array([ -1.66755498e-13,   3.22353255e-13,   8.54871729e-15,\n",
       "         5.69336245e-14,   7.04991621e-15,   1.99840144e-15,\n",
       "         2.22044605e-16,  -3.13776782e-13,  -1.01585407e-14])"
      ]
     },
     "execution_count": 11,
     "metadata": {},
     "output_type": "execute_result"
    }
   ],
   "source": [
    "l2_clogistic_gradient(X=solver.grouping_designs[\"judge\"],\n",
    "                      Y=solver.response,\n",
    "                      intercept=False,\n",
    "                      beta=results[\"judge\"][\"intercept\"].values,\n",
    "                      alpha=results[\"intercepts\"],\n",
    "                      penalty_matrix=solver.sparse_inv_covs[\"judge\"].sparse_matrix,\n",
    "                      # adjust for main effects\n",
    "                      offset=solver.main_design.dot(results[\"main\"][\"main_value\"].values))"
   ]
  },
  {
   "cell_type": "markdown",
   "metadata": {},
   "source": [
    "Here's the gradient according to the `R::ordinal` solution"
   ]
  },
  {
   "cell_type": "code",
   "execution_count": 12,
   "metadata": {},
   "outputs": [
    {
     "data": {
      "text/html": [
       "<div>\n",
       "<style scoped>\n",
       "    .dataframe tbody tr th:only-of-type {\n",
       "        vertical-align: middle;\n",
       "    }\n",
       "\n",
       "    .dataframe tbody tr th {\n",
       "        vertical-align: top;\n",
       "    }\n",
       "\n",
       "    .dataframe thead th {\n",
       "        text-align: right;\n",
       "    }\n",
       "</style>\n",
       "<table border=\"1\" class=\"dataframe\">\n",
       "  <thead>\n",
       "    <tr style=\"text-align: right;\">\n",
       "      <th></th>\n",
       "      <th>0</th>\n",
       "    </tr>\n",
       "  </thead>\n",
       "  <tbody>\n",
       "    <tr>\n",
       "      <th>0</th>\n",
       "      <td>-5.173180</td>\n",
       "    </tr>\n",
       "    <tr>\n",
       "      <th>1</th>\n",
       "      <td>-5.217603</td>\n",
       "    </tr>\n",
       "    <tr>\n",
       "      <th>2</th>\n",
       "      <td>-5.801470</td>\n",
       "    </tr>\n",
       "    <tr>\n",
       "      <th>3</th>\n",
       "      <td>-5.577097</td>\n",
       "    </tr>\n",
       "    <tr>\n",
       "      <th>4</th>\n",
       "      <td>-5.135598</td>\n",
       "    </tr>\n",
       "    <tr>\n",
       "      <th>5</th>\n",
       "      <td>-5.365715</td>\n",
       "    </tr>\n",
       "    <tr>\n",
       "      <th>6</th>\n",
       "      <td>-4.984617</td>\n",
       "    </tr>\n",
       "  </tbody>\n",
       "</table>\n",
       "</div>"
      ],
      "text/plain": [
       "          0\n",
       "0 -5.173180\n",
       "1 -5.217603\n",
       "2 -5.801470\n",
       "3 -5.577097\n",
       "4 -5.135598\n",
       "5 -5.365715\n",
       "6 -4.984617"
      ]
     },
     "execution_count": 12,
     "metadata": {},
     "output_type": "execute_result"
    }
   ],
   "source": [
    "pd.read_csv(\"gradient_R.csv\", header=None).apply(lambda x: np.log10(abs(x)))"
   ]
  },
  {
   "cell_type": "markdown",
   "metadata": {
    "collapsed": true
   },
   "source": [
    "Since diamond is achieving a smaller gradient, it's closer to the optimal solution. This explains the small discrepancy in the results."
   ]
  }
 ],
 "metadata": {
  "kernelspec": {
   "display_name": "Python3",
   "language": "python",
   "name": "p3"
  },
  "language_info": {
   "codemirror_mode": {
    "name": "ipython",
    "version": 3
   },
   "file_extension": ".py",
   "mimetype": "text/x-python",
   "name": "python",
   "nbconvert_exporter": "python",
   "pygments_lexer": "ipython3",
   "version": "3.6.1"
  }
 },
 "nbformat": 4,
 "nbformat_minor": 1
}
